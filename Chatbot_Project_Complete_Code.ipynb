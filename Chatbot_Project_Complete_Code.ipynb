{
  "cells": [
    {
      "cell_type": "markdown",
      "metadata": {
        "id": "view-in-github",
        "colab_type": "text"
      },
      "source": [
        "<a href=\"https://colab.research.google.com/github/hanumanthuNani/project-2/blob/main/Chatbot_Project_Complete_Code.ipynb\" target=\"_parent\"><img src=\"https://colab.research.google.com/assets/colab-badge.svg\" alt=\"Open In Colab\"/></a>"
      ]
    },
    {
      "cell_type": "markdown",
      "id": "b2e0c052",
      "metadata": {
        "id": "b2e0c052"
      },
      "source": [
        "# Building a Simple Chatbot Using Python\n",
        "\n",
        "\n"
      ]
    },
    {
      "cell_type": "markdown",
      "id": "8813dfcf",
      "metadata": {
        "id": "8813dfcf"
      },
      "source": [
        "## 1. Introduction to NLP and Chatbot Frameworks\n",
        "\n",
        "---\n",
        "\n",
        "\n",
        "\n",
        "### Definition and Importance of NLP\n",
        "Natural Language Processing (NLP) is a field of artificial intelligence that focuses on the interaction between computers and humans through natural language. The ultimate goal of NLP is to enable computers to understand, interpret, and generate human languages in a way that is both meaningful and useful.\n",
        "\n",
        "**Applications of NLP:**\n",
        "- Sentiment Analysis\n",
        "- Language Translation\n",
        "- Chatbots and Virtual Assistants\n",
        "- Text Summarization\n",
        "- Speech Recognition"
      ]
    },
    {
      "cell_type": "markdown",
      "id": "16cb9764",
      "metadata": {
        "id": "16cb9764"
      },
      "source": [
        "### Common NLP Tasks\n",
        "#### Tokenization\n",
        "Tokenization is the process of breaking text into individual words or tokens.\n",
        "\n",
        "#### Stemming and Lemmatization\n",
        "Stemming and lemmatization are processes of reducing words to their root forms.\n",
        "\n",
        "#### Stop Words Removal\n",
        "Stop words are common words that add little meaning to text and are often removed in preprocessing."
      ]
    },
    {
      "cell_type": "code",
      "execution_count": null,
      "id": "ba7a2fde",
      "metadata": {
        "colab": {
          "base_uri": "https://localhost:8080/"
        },
        "id": "ba7a2fde",
        "outputId": "189db361-2d75-4770-b405-6175d559f119"
      },
      "outputs": [
        {
          "output_type": "stream",
          "name": "stderr",
          "text": [
            "[nltk_data] Downloading package punkt to /root/nltk_data...\n",
            "[nltk_data]   Unzipping tokenizers/punkt.zip.\n"
          ]
        },
        {
          "output_type": "stream",
          "name": "stdout",
          "text": [
            "['Natural', 'Language', 'Processing', 'is', 'fascinating', '.']\n"
          ]
        }
      ],
      "source": [
        "import nltk\n",
        "nltk.download('punkt')\n",
        "from nltk.tokenize import word_tokenize\n",
        "\n",
        "text = \"Natural Language Processing is fascinating.\"\n",
        "tokens = word_tokenize(text)\n",
        "print(tokens)"
      ]
    },
    {
      "cell_type": "code",
      "execution_count": null,
      "id": "98ccb093",
      "metadata": {
        "colab": {
          "base_uri": "https://localhost:8080/"
        },
        "id": "98ccb093",
        "outputId": "d622aaeb-4f7b-4436-a68c-0d7db9edc0b4"
      },
      "outputs": [
        {
          "output_type": "stream",
          "name": "stdout",
          "text": [
            "['run', 'ran', 'run']\n"
          ]
        }
      ],
      "source": [
        "from nltk.stem import PorterStemmer\n",
        "\n",
        "stemmer = PorterStemmer()\n",
        "words = [\"running\", \"ran\", \"runs\"]\n",
        "stems = [stemmer.stem(word) for word in words]\n",
        "print(stems)"
      ]
    },
    {
      "cell_type": "code",
      "execution_count": null,
      "id": "17c70079",
      "metadata": {
        "colab": {
          "base_uri": "https://localhost:8080/"
        },
        "id": "17c70079",
        "outputId": "1615ad2d-4a15-4698-f461-39ceaa860efd"
      },
      "outputs": [
        {
          "output_type": "stream",
          "name": "stderr",
          "text": [
            "[nltk_data] Downloading package wordnet to /root/nltk_data...\n"
          ]
        },
        {
          "output_type": "stream",
          "name": "stdout",
          "text": [
            "['run', 'run', 'run']\n"
          ]
        }
      ],
      "source": [
        "from nltk.stem import WordNetLemmatizer\n",
        "nltk.download('wordnet')\n",
        "\n",
        "lemmatizer = WordNetLemmatizer()\n",
        "words = [\"running\", \"ran\", \"runs\"]\n",
        "lemmas = [lemmatizer.lemmatize(word, pos='v') for word in words]\n",
        "print(lemmas)"
      ]
    },
    {
      "cell_type": "code",
      "execution_count": null,
      "id": "791fa950",
      "metadata": {
        "colab": {
          "base_uri": "https://localhost:8080/"
        },
        "id": "791fa950",
        "outputId": "51caeb5f-4a96-41ef-80f9-8b523a68cfb0"
      },
      "outputs": [
        {
          "output_type": "stream",
          "name": "stdout",
          "text": [
            "['Natural', 'Language', 'Processing', 'fascinating', '.']\n"
          ]
        },
        {
          "output_type": "stream",
          "name": "stderr",
          "text": [
            "[nltk_data] Downloading package stopwords to /root/nltk_data...\n",
            "[nltk_data]   Unzipping corpora/stopwords.zip.\n"
          ]
        }
      ],
      "source": [
        "from nltk.corpus import stopwords\n",
        "nltk.download('stopwords')\n",
        "\n",
        "stop_words = set(stopwords.words('english'))\n",
        "filtered_text = [word for word in tokens if word.lower() not in stop_words]\n",
        "print(filtered_text)"
      ]
    },
    {
      "cell_type": "markdown",
      "id": "3d4734f7",
      "metadata": {
        "id": "3d4734f7"
      },
      "source": [
        "### Overview of Popular NLP Libraries\n",
        "#### NLTK (Natural Language Toolkit)\n",
        "NLTK is a powerful library for various NLP tasks, including tokenization, stemming, lemmatization, and more.\n",
        "\n",
        "#### SpaCy\n",
        "SpaCy is an open-source software library for advanced NLP tasks, known for its speed and efficiency.\n",
        "\n",
        "#### TextBlob\n",
        "TextBlob is a simple library for processing textual data, providing easy-to-use APIs for common NLP tasks."
      ]
    },
    {
      "cell_type": "markdown",
      "id": "1949f90b",
      "metadata": {
        "id": "1949f90b"
      },
      "source": [
        "### Introduction to Chatbot Frameworks\n",
        "#### ChatterBot\n",
        "ChatterBot is a Python library that makes it easy to generate automated responses to a user's input.\n",
        "\n",
        "#### Rasa\n",
        "Rasa is an open-source framework for building conversational AI, including chatbots and voice assistants."
      ]
    },
    {
      "cell_type": "markdown",
      "id": "64e793e2",
      "metadata": {
        "id": "64e793e2"
      },
      "source": [
        "## 2. Designing and Training a Simple Chatbot\n",
        "\n",
        "### Preprocessing Text Data\n",
        "Before training a chatbot, we need to preprocess the text data by tokenizing the text, removing stop words, and applying stemming or lemmatization."
      ]
    },
    {
      "cell_type": "code",
      "execution_count": null,
      "id": "99cf09a1",
      "metadata": {
        "colab": {
          "base_uri": "https://localhost:8080/"
        },
        "id": "99cf09a1",
        "outputId": "92a41b93-5f8d-49d7-b4f0-e57cb6e5cb2f"
      },
      "outputs": [
        {
          "output_type": "stream",
          "name": "stdout",
          "text": [
            "                                      Question  \\\n",
            "0                   introduction to the course   \n",
            "1  overview of data science and its importance   \n",
            "2    introduction to the data science workflow   \n",
            "3         key skills and tools in data science   \n",
            "4          where can i find my course videos ?   \n",
            "\n",
            "                                              Answer  \n",
            "0  Welcome to the data science course. Here you w...  \n",
            "1  Data science is crucial for making informed de...  \n",
            "2  The data science workflow includes data collec...  \n",
            "3  Important skills include programming, statisti...  \n",
            "4  You can find all your course videos on the Cip...  \n"
          ]
        },
        {
          "output_type": "stream",
          "name": "stderr",
          "text": [
            "[nltk_data] Downloading package punkt to /root/nltk_data...\n",
            "[nltk_data]   Package punkt is already up-to-date!\n"
          ]
        }
      ],
      "source": [
        "import pandas as pd\n",
        "\n",
        "# Load the dataset\n",
        "data = pd.read_csv('chatbot_dataset.csv')\n",
        "\n",
        "# Preprocess the data\n",
        "nltk.download('punkt')\n",
        "data['Question'] = data['Question'].apply(lambda x: ' '.join(nltk.word_tokenize(x.lower())))\n",
        "print(data.head())"
      ]
    },
    {
      "cell_type": "markdown",
      "id": "556ec1a5",
      "metadata": {
        "id": "556ec1a5"
      },
      "source": [
        "### Vectorizing Text Data\n",
        "We convert the text data into numerical values using TF-IDF (Term Frequency-Inverse Document Frequency) vectorization."
      ]
    },
    {
      "cell_type": "code",
      "execution_count": null,
      "id": "8c15d275",
      "metadata": {
        "colab": {
          "base_uri": "https://localhost:8080/"
        },
        "id": "8c15d275",
        "outputId": "0a3f8b0a-1d60-4edb-8f39-824f2d7a6ef3"
      },
      "outputs": [
        {
          "output_type": "stream",
          "name": "stdout",
          "text": [
            "(48, 112)\n"
          ]
        }
      ],
      "source": [
        "from sklearn.feature_extraction.text import TfidfVectorizer\n",
        "\n",
        "vectorizer = TfidfVectorizer()\n",
        "X = vectorizer.fit_transform(data['Question'])\n",
        "print(X.shape)"
      ]
    },
    {
      "cell_type": "markdown",
      "id": "00d0aeca",
      "metadata": {
        "id": "00d0aeca"
      },
      "source": [
        "### Training a Text Classification Model\n",
        "We use the Naive Bayes classifier to train the model on the vectorized text data."
      ]
    },
    {
      "cell_type": "code",
      "execution_count": null,
      "id": "36495a09",
      "metadata": {
        "colab": {
          "base_uri": "https://localhost:8080/"
        },
        "id": "36495a09",
        "outputId": "5af3a9a9-d287-4f8b-e90f-e58c948ad52b"
      },
      "outputs": [
        {
          "output_type": "stream",
          "name": "stdout",
          "text": [
            "Model training complete.\n"
          ]
        }
      ],
      "source": [
        "from sklearn.naive_bayes import MultinomialNB\n",
        "from sklearn.pipeline import make_pipeline\n",
        "from sklearn.model_selection import train_test_split\n",
        "\n",
        "# Split the data into training and test sets\n",
        "X_train, X_test, y_train, y_test = train_test_split(data['Question'], data['Answer'], test_size=0.2, random_state=42)\n",
        "\n",
        "# Create a model pipeline\n",
        "model = make_pipeline(TfidfVectorizer(), MultinomialNB())\n",
        "\n",
        "# Train the model\n",
        "model.fit(X_train, y_train)\n",
        "print(\"Model training complete.\")"
      ]
    },
    {
      "cell_type": "markdown",
      "id": "9c14aa6a",
      "metadata": {
        "id": "9c14aa6a"
      },
      "source": [
        "### Implementing a Function to Get Chatbot Responses\n",
        "We write a function to process user input and return responses based on the trained model."
      ]
    },
    {
      "cell_type": "code",
      "execution_count": null,
      "id": "a9affc16",
      "metadata": {
        "colab": {
          "base_uri": "https://localhost:8080/"
        },
        "id": "a9affc16",
        "outputId": "1a3d0c99-a239-4b43-9af8-afae4c056499"
      },
      "outputs": [
        {
          "output_type": "stream",
          "name": "stdout",
          "text": [
            "Seaborn is a Python visualization library based on Matplotlib that provides a high-level interface for drawing attractive statistical graphics. This is covered in the Introduction to Matplotlib and Seaborn module.\n"
          ]
        }
      ],
      "source": [
        "# Function to get a response from the chatbot\n",
        "def get_response(question):\n",
        "    question = ' '.join(nltk.word_tokenize(question.lower()))\n",
        "    answer = model.predict([question])[0]\n",
        "    return answer\n",
        "\n",
        "# Testing the function\n",
        "print(get_response(\"What is NLP?\"))"
      ]
    },
    {
      "cell_type": "markdown",
      "metadata": {
        "id": "5134102a"
      },
      "source": [
        "# Basics of Dash and Plotly\n",
        "\n",
        "In this notebook, we will cover the basics of Dash and Plotly. We will explain the essential components used to create a simple web application."
      ],
      "id": "5134102a"
    },
    {
      "cell_type": "markdown",
      "metadata": {
        "id": "d2b73f16"
      },
      "source": [
        "## Initializing the Dash App\n",
        "\n",
        "To start using Dash, you need to import the Dash module and create an instance of the Dash class. This instance will be your app."
      ],
      "id": "d2b73f16"
    },
    {
      "cell_type": "code",
      "execution_count": null,
      "metadata": {
        "id": "f1656680",
        "colab": {
          "base_uri": "https://localhost:8080/",
          "height": 815
        },
        "outputId": "f1f8cfc7-9a28-404d-e58b-96043f1b5239"
      },
      "outputs": [
        {
          "output_type": "stream",
          "name": "stdout",
          "text": [
            "Collecting dash==2.13.0\n",
            "  Downloading dash-2.13.0-py3-none-any.whl.metadata (11 kB)\n",
            "Requirement already satisfied: Flask<2.3.0,>=1.0.4 in /usr/local/lib/python3.10/dist-packages (from dash==2.13.0) (2.2.5)\n",
            "Collecting Werkzeug<2.3.0 (from dash==2.13.0)\n",
            "  Downloading Werkzeug-2.2.3-py3-none-any.whl.metadata (4.4 kB)\n",
            "Requirement already satisfied: plotly>=5.0.0 in /usr/local/lib/python3.10/dist-packages (from dash==2.13.0) (5.15.0)\n",
            "Collecting dash-html-components==2.0.0 (from dash==2.13.0)\n",
            "  Downloading dash_html_components-2.0.0-py3-none-any.whl.metadata (3.8 kB)\n",
            "Collecting dash-core-components==2.0.0 (from dash==2.13.0)\n",
            "  Downloading dash_core_components-2.0.0-py3-none-any.whl.metadata (2.9 kB)\n",
            "Collecting dash-table==5.0.0 (from dash==2.13.0)\n",
            "  Downloading dash_table-5.0.0-py3-none-any.whl.metadata (2.4 kB)\n",
            "Requirement already satisfied: typing-extensions>=4.1.1 in /usr/local/lib/python3.10/dist-packages (from dash==2.13.0) (4.12.2)\n",
            "Requirement already satisfied: requests in /usr/local/lib/python3.10/dist-packages (from dash==2.13.0) (2.32.3)\n",
            "Collecting retrying (from dash==2.13.0)\n",
            "  Downloading retrying-1.3.4-py3-none-any.whl.metadata (6.9 kB)\n",
            "Collecting ansi2html (from dash==2.13.0)\n",
            "  Downloading ansi2html-1.9.2-py3-none-any.whl.metadata (3.7 kB)\n",
            "Requirement already satisfied: nest-asyncio in /usr/local/lib/python3.10/dist-packages (from dash==2.13.0) (1.6.0)\n",
            "Requirement already satisfied: setuptools in /usr/local/lib/python3.10/dist-packages (from dash==2.13.0) (71.0.4)\n",
            "Requirement already satisfied: Jinja2>=3.0 in /usr/local/lib/python3.10/dist-packages (from Flask<2.3.0,>=1.0.4->dash==2.13.0) (3.1.4)\n",
            "Requirement already satisfied: itsdangerous>=2.0 in /usr/local/lib/python3.10/dist-packages (from Flask<2.3.0,>=1.0.4->dash==2.13.0) (2.2.0)\n",
            "Requirement already satisfied: click>=8.0 in /usr/local/lib/python3.10/dist-packages (from Flask<2.3.0,>=1.0.4->dash==2.13.0) (8.1.7)\n",
            "Requirement already satisfied: tenacity>=6.2.0 in /usr/local/lib/python3.10/dist-packages (from plotly>=5.0.0->dash==2.13.0) (9.0.0)\n",
            "Requirement already satisfied: packaging in /usr/local/lib/python3.10/dist-packages (from plotly>=5.0.0->dash==2.13.0) (24.1)\n",
            "Requirement already satisfied: MarkupSafe>=2.1.1 in /usr/local/lib/python3.10/dist-packages (from Werkzeug<2.3.0->dash==2.13.0) (2.1.5)\n",
            "Requirement already satisfied: charset-normalizer<4,>=2 in /usr/local/lib/python3.10/dist-packages (from requests->dash==2.13.0) (3.3.2)\n",
            "Requirement already satisfied: idna<4,>=2.5 in /usr/local/lib/python3.10/dist-packages (from requests->dash==2.13.0) (3.8)\n",
            "Requirement already satisfied: urllib3<3,>=1.21.1 in /usr/local/lib/python3.10/dist-packages (from requests->dash==2.13.0) (2.0.7)\n",
            "Requirement already satisfied: certifi>=2017.4.17 in /usr/local/lib/python3.10/dist-packages (from requests->dash==2.13.0) (2024.8.30)\n",
            "Requirement already satisfied: six>=1.7.0 in /usr/local/lib/python3.10/dist-packages (from retrying->dash==2.13.0) (1.16.0)\n",
            "Downloading dash-2.13.0-py3-none-any.whl (10.4 MB)\n",
            "\u001b[2K   \u001b[90m━━━━━━━━━━━━━━━━━━━━━━━━━━━━━━━━━━━━━━━━\u001b[0m \u001b[32m10.4/10.4 MB\u001b[0m \u001b[31m57.2 MB/s\u001b[0m eta \u001b[36m0:00:00\u001b[0m\n",
            "\u001b[?25hDownloading dash_core_components-2.0.0-py3-none-any.whl (3.8 kB)\n",
            "Downloading dash_html_components-2.0.0-py3-none-any.whl (4.1 kB)\n",
            "Downloading dash_table-5.0.0-py3-none-any.whl (3.9 kB)\n",
            "Downloading Werkzeug-2.2.3-py3-none-any.whl (233 kB)\n",
            "\u001b[2K   \u001b[90m━━━━━━━━━━━━━━━━━━━━━━━━━━━━━━━━━━━━━━━━\u001b[0m \u001b[32m233.6/233.6 kB\u001b[0m \u001b[31m15.9 MB/s\u001b[0m eta \u001b[36m0:00:00\u001b[0m\n",
            "\u001b[?25hDownloading ansi2html-1.9.2-py3-none-any.whl (17 kB)\n",
            "Downloading retrying-1.3.4-py3-none-any.whl (11 kB)\n",
            "Installing collected packages: dash-table, dash-html-components, dash-core-components, Werkzeug, retrying, ansi2html, dash\n",
            "  Attempting uninstall: Werkzeug\n",
            "    Found existing installation: Werkzeug 3.0.4\n",
            "    Uninstalling Werkzeug-3.0.4:\n",
            "      Successfully uninstalled Werkzeug-3.0.4\n",
            "Successfully installed Werkzeug-2.2.3 ansi2html-1.9.2 dash-2.13.0 dash-core-components-2.0.0 dash-html-components-2.0.0 dash-table-5.0.0 retrying-1.3.4\n"
          ]
        }
      ],
      "source": [
        "!pip install dash==2.13.0\n",
        "import dash\n",
        "\n",
        "# Initialize the Dash app\n",
        "app = dash.Dash(__name__)"
      ],
      "id": "f1656680"
    },
    {
      "cell_type": "markdown",
      "metadata": {
        "id": "c179f94c"
      },
      "source": [
        "## Defining the Layout\n",
        "\n",
        "The layout of a Dash app is defined using Dash's HTML and core components. The layout describes what the app looks like."
      ],
      "id": "c179f94c"
    },
    {
      "cell_type": "code",
      "execution_count": null,
      "metadata": {
        "id": "0c06c3cb"
      },
      "outputs": [],
      "source": [
        "from dash import dcc, html\n",
        "\n",
        "# Define the layout\n",
        "app.layout = html.Div([\n",
        "    html.H1(\"My Dash App\", style={'textAlign': 'center'}),\n",
        "    dcc.Input(id='input-box', type='text', value='Type something...'),\n",
        "    html.Button('Submit', id='button'),\n",
        "    html.Div(id='output-div')\n",
        "])"
      ],
      "id": "0c06c3cb"
    },
    {
      "cell_type": "markdown",
      "metadata": {
        "id": "1f312978"
      },
      "source": [
        "## Callback to Update the Output\n",
        "\n",
        "Callbacks in Dash are used to update the app's layout interactively. A callback is a function that gets automatically called by Dash whenever the input components' values change."
      ],
      "id": "1f312978"
    },
    {
      "cell_type": "code",
      "execution_count": null,
      "metadata": {
        "id": "596563f9"
      },
      "outputs": [],
      "source": [
        "from dash.dependencies import Input, Output\n",
        "\n",
        "# Define callback to update output\n",
        "@app.callback(\n",
        "    Output('output-div', 'children'),\n",
        "    Input('button', 'n_clicks'),\n",
        "    [dash.dependencies.State('input-box', 'value')]\n",
        ")\n",
        "def update_output(n_clicks, value):\n",
        "    if n_clicks is not None:\n",
        "        return f'You have entered: {value}'\n",
        "    return ''\n"
      ],
      "id": "596563f9"
    },
    {
      "cell_type": "markdown",
      "metadata": {
        "id": "ff8100a4"
      },
      "source": [
        "## Running the App\n",
        "\n",
        "To run the app, you need to call the `run_server` method on the app instance. This will start a web server that serves the app."
      ],
      "id": "ff8100a4"
    },
    {
      "cell_type": "code",
      "execution_count": null,
      "metadata": {
        "id": "f4ba73ee",
        "colab": {
          "base_uri": "https://localhost:8080/",
          "height": 672
        },
        "outputId": "f7f79491-3196-4e17-ac07-efc1ec990b63"
      },
      "outputs": [
        {
          "output_type": "display_data",
          "data": {
            "text/plain": [
              "<IPython.core.display.Javascript object>"
            ],
            "application/javascript": [
              "(async (port, path, width, height, cache, element) => {\n",
              "    if (!google.colab.kernel.accessAllowed && !cache) {\n",
              "      return;\n",
              "    }\n",
              "    element.appendChild(document.createTextNode(''));\n",
              "    const url = await google.colab.kernel.proxyPort(port, {cache});\n",
              "    const iframe = document.createElement('iframe');\n",
              "    iframe.src = new URL(path, url).toString();\n",
              "    iframe.height = height;\n",
              "    iframe.width = width;\n",
              "    iframe.style.border = 0;\n",
              "    iframe.allow = [\n",
              "        'accelerometer',\n",
              "        'autoplay',\n",
              "        'camera',\n",
              "        'clipboard-read',\n",
              "        'clipboard-write',\n",
              "        'gyroscope',\n",
              "        'magnetometer',\n",
              "        'microphone',\n",
              "        'serial',\n",
              "        'usb',\n",
              "        'xr-spatial-tracking',\n",
              "    ].join('; ');\n",
              "    element.appendChild(iframe);\n",
              "  })(8050, \"/\", \"100%\", 650, false, window.element)"
            ]
          },
          "metadata": {}
        }
      ],
      "source": [
        "if __name__ == '__main__':\n",
        "    app.run_server(debug=True)"
      ],
      "id": "f4ba73ee"
    },
    {
      "cell_type": "markdown",
      "metadata": {
        "id": "733d996d"
      },
      "source": [
        "## Example: Adding a Text Area\n",
        "\n",
        "You can add a text area to your Dash app using the `dcc.Textarea` component. This component allows the user to input multiline text."
      ],
      "id": "733d996d"
    },
    {
      "cell_type": "code",
      "execution_count": null,
      "metadata": {
        "id": "30baeb41"
      },
      "outputs": [],
      "source": [
        "app.layout = html.Div([\n",
        "    html.H1(\"Chatbot\", style={'textAlign': 'center'}),\n",
        "    dcc.Textarea(\n",
        "        id='user-input',\n",
        "        value='Type your question here...',\n",
        "        style={'width': '100%', 'height': 100}\n",
        "    ),\n",
        "    html.Button('Submit', id='submit-button', n_clicks=0),\n",
        "    html.Div(id='chatbot-output', style={'padding': '10px'})\n",
        "])"
      ],
      "id": "30baeb41"
    },
    {
      "cell_type": "markdown",
      "metadata": {
        "id": "959705f9"
      },
      "source": [
        "## Example: Creating a Chatbot Response\n",
        "\n",
        "We can create a simple chatbot response by defining a callback function that takes user input and generates a response."
      ],
      "id": "959705f9"
    },
    {
      "cell_type": "code",
      "execution_count": null,
      "metadata": {
        "id": "7c066fdd"
      },
      "outputs": [],
      "source": [
        "# Define callback to update chatbot response\n",
        "@app.callback(\n",
        "    Output('chatbot-output', 'children'),\n",
        "    Input('submit-button', 'n_clicks'),\n",
        "    [dash.dependencies.State('user-input', 'value')]\n",
        ")\n",
        "def update_output(n_clicks, user_input):\n",
        "    if n_clicks > 0:\n",
        "        return html.Div([\n",
        "            html.P(f\"You: {user_input}\", style={'margin': '10px'}),\n",
        "            html.P(f\"Bot: I am training now, ask something else.\", style={'margin': '10px', 'backgroundColor': '#f0f0f0', 'padding': '10px', 'borderRadius': '5px'})\n",
        "        ])\n",
        "    return \"Ask me something!\"\n"
      ],
      "id": "7c066fdd"
    }
  ],
  "metadata": {
    "colab": {
      "provenance": [],
      "include_colab_link": true
    },
    "language_info": {
      "name": "python"
    },
    "kernelspec": {
      "name": "python3",
      "display_name": "Python 3"
    }
  },
  "nbformat": 4,
  "nbformat_minor": 5
}